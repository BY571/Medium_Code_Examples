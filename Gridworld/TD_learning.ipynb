{
 "cells": [
  {
   "cell_type": "markdown",
   "metadata": {},
   "source": [
    "# Examples to the Medium article \"Monte Carlo Methods in Reinforcement Learning\"\n",
    "\n",
    "In this notebook I want to give a practical example of an application of the described methods in the medium [article](https://medium.com/@sebastian.dittert3692/reinforcement-learning-temporal-difference-learning-part-1-339fef103850).\n",
    "\n",
    "This notebook covers code expamples for:\n",
    "- TD(0) learning\n",
    "- "
   ]
  },
  {
   "cell_type": "markdown",
   "metadata": {},
   "source": [
    "All Algorithms are applied to the Gridworld toy example which will be explained below.\n",
    "\n",
    "## Gridworld Environment\n",
    "\n",
    "The reinforcement learning problem where the named algorithms are applied to is Gridworld. Gridworld is and environment where the agent spawns in a starting position and needs to find a goal state on a discrete stationary grid. The agent has four different actions he can perform, these are: [Up (0), Right (1), Left (2), Down (3)]. The following image shows the environment:\n",
    "\n",
    "![environment](images/gridworld.png)\n",
    "\n",
    "Every field in the environment has its state number in the upper left corner. Starting position is state 8 in the bottom left hand corner. For each step the agent can move one field in one direction. If the agent is at the edge of the environment, for example state 4 and takes action 2 (move left) he bounces back to its original position, that is state 4. Field nr 5 are rocks and can not be entered. the agent moves back to its position. The goal state is state 3 where the agent receives a reward of +1 below state 3 is state 7. If the agent enters state 7 he receives a negative reward of -1. For each step the agent takes he receives a reward of -0.1. One episode ends if the agent reaches the goal state or after 30 interactions. "
   ]
  },
  {
   "cell_type": "code",
   "execution_count": 2,
   "metadata": {},
   "outputs": [],
   "source": [
    "import numpy as np\n",
    "import matplotlib.pyplot as plt\n",
    "import seaborn as sns\n",
    "plt.rcParams['font.family'] = \"serif\"\n",
    "import copy\n",
    "from gridworld import *"
   ]
  },
  {
   "cell_type": "markdown",
   "metadata": {},
   "source": [
    "![TD0](images/TD_0.png)"
   ]
  },
  {
   "cell_type": "code",
   "execution_count": 9,
   "metadata": {},
   "outputs": [],
   "source": [
    "# init the environment:\n",
    "max_episodes = 5000\n",
    "env = Gridworld(step_cost=-0.1,max_ep_length=30)\n",
    "\n",
    "state_value_grid = np.zeros(12) # state vale grid\n",
    "state_value_grid[3] = 1 # Goal\n",
    "state_value_grid[7] = -1 # Death\n",
    "g = 0.99 # discounting factor\n",
    "alpha = 0.01 # learning rate"
   ]
  },
  {
   "cell_type": "code",
   "execution_count": 10,
   "metadata": {},
   "outputs": [],
   "source": [
    "for ep in range(max_episodes):\n",
    "    G = 0\n",
    "    state = env.reset()\n",
    "    while True:        \n",
    "        action = np.random.randint(4) #random policy\n",
    "        next_state, reward, done = env.step(action)\n",
    "        \n",
    "        # Updating \n",
    "        state_value_grid[state] += alpha*(reward + g*state_value_grid[next_state] - state_value_grid[state])\n",
    "        state = next_state\n",
    "        if done:\n",
    "            break\n",
    "\n",
    "\n"
   ]
  },
  {
   "cell_type": "code",
   "execution_count": 11,
   "metadata": {},
   "outputs": [
    {
     "data": {
      "image/png": "[encoded data removed]",
      "text/plain": [
       "<Figure size 720x360 with 2 Axes>"
      ]
     },
     "metadata": {
      "needs_background": "light"
     },
     "output_type": "display_data"
    }
   ],
   "source": [
    "# Plot of the grid with values of each state\n",
    "plot_state_value_grid(state_value_grid.reshape((3,4)))"
   ]
  },
  {
   "cell_type": "code",
   "execution_count": null,
   "metadata": {},
   "outputs": [],
   "source": []
  }
 ],
 "metadata": {
  "kernelspec": {
   "display_name": "Python 3",
   "language": "python",
   "name": "python3"
  },
  "language_info": {
   "codemirror_mode": {
    "name": "ipython",
    "version": 3
   },
   "file_extension": ".py",
   "mimetype": "text/x-python",
   "name": "python",
   "nbconvert_exporter": "python",
   "pygments_lexer": "ipython3",
   "version": "3.7.4"
  }
 },
 "nbformat": 4,
 "nbformat_minor": 4
}
