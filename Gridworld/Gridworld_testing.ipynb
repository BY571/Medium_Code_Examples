{
 "cells": [
  {
   "cell_type": "code",
   "execution_count": 1,
   "metadata": {},
   "outputs": [],
   "source": [
    "import numpy as np\n",
    "import matplotlib.pyplot as plt\n"
   ]
  },
  {
   "cell_type": "markdown",
   "metadata": {},
   "source": [
    "# create grid\n"
   ]
  },
  {
   "cell_type": "code",
   "execution_count": 10,
   "metadata": {},
   "outputs": [],
   "source": [
    "grid = np.zeros((3,4))\n",
    "state_value_grid = np.zeros((3,4)) # state vale grid\n",
    "grid[0][3] = 1 # goal state\n",
    "grid[1][3] = -1 # death state\n",
    "grid[1][1] = 2 # block"
   ]
  },
  {
   "cell_type": "code",
   "execution_count": 11,
   "metadata": {},
   "outputs": [
    {
     "data": {
      "text/plain": [
       "array([[ 0.,  0.,  0.,  1.],\n",
       "       [ 0.,  2.,  0., -1.],\n",
       "       [ 0.,  0.,  0.,  0.]])"
      ]
     },
     "execution_count": 11,
     "metadata": {},
     "output_type": "execute_result"
    }
   ],
   "source": [
    "grid"
   ]
  },
  {
   "cell_type": "code",
   "execution_count": null,
   "metadata": {},
   "outputs": [],
   "source": [
    "\n"
   ]
  },
  {
   "cell_type": "code",
   "execution_count": null,
   "metadata": {},
   "outputs": [],
   "source": []
  },
  {
   "cell_type": "code",
   "execution_count": null,
   "metadata": {},
   "outputs": [],
   "source": []
  },
  {
   "cell_type": "code",
   "execution_count": null,
   "metadata": {},
   "outputs": [],
   "source": [
    "# add exploring start\n",
    "# add action_value \n",
    "class Gridworld():\n",
    "    def __init__(self,):\n",
    "        self.grid = np.zeros((3,4))\n",
    "        self.state_value_grid = np.zeros((3,4)) # state vale grid\n",
    "        self.grid[0][3] = 1 # goal state\n",
    "        self.grid[1][3] = -1 # death state\n",
    "        self.grid[1][1] = 2 # block\n",
    "        self.state = (2,0)\n",
    "        self.possible_actions = [0,1,2,3] # 0 = up, 1 = right, 2 = down, 3 = left\n",
    "    \n",
    "    def reset(self):\n",
    "        self.grid = np.zeros((3,4))\n",
    "        self.state_value_grid = np.zeros((3,4)) # state vale grid\n",
    "        self.grid[0][3] = 1 # goal state\n",
    "        self.grid[1][3] = -1 # death state\n",
    "        self.grid[1][1] = 2 # block\n",
    "        self.state = (2,0)\n",
    "        return (2,0)\n",
    "    \n",
    "    def step(self, action):\n",
    "        "
   ]
  }
 ],
 "metadata": {
  "kernelspec": {
   "display_name": "Python 3",
   "language": "python",
   "name": "python3"
  },
  "language_info": {
   "codemirror_mode": {
    "name": "ipython",
    "version": 3
   },
   "file_extension": ".py",
   "mimetype": "text/x-python",
   "name": "python",
   "nbconvert_exporter": "python",
   "pygments_lexer": "ipython3",
   "version": "3.7.4"
  }
 },
 "nbformat": 4,
 "nbformat_minor": 4
}
